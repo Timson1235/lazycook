{
 "cells": [
  {
   "cell_type": "code",
   "execution_count": 1,
   "id": "a6eddc36",
   "metadata": {},
   "outputs": [],
   "source": [
    "import pandas as pd\n",
    "import numpy as np"
   ]
  },
  {
   "cell_type": "code",
   "execution_count": 2,
   "id": "157e0599",
   "metadata": {},
   "outputs": [],
   "source": [
    "df = pd.read_csv(\"full_dataset.csv\")"
   ]
  },
  {
   "cell_type": "code",
   "execution_count": 10,
   "id": "9d3bc646",
   "metadata": {},
   "outputs": [],
   "source": [
    "df100 = df.head(100)"
   ]
  },
  {
   "cell_type": "code",
   "execution_count": null,
   "id": "2642a1e3",
   "metadata": {},
   "outputs": [
    {
     "data": {
      "text/plain": [
       "0    [\"In a heavy 2-quart saucepan, mix brown sugar...\n",
       "1    [\"Place chipped beef on bottom of baking dish....\n",
       "2    [\"In a slow cooker, combine all ingredients. C...\n",
       "3    [\"Boil and debone chicken.\", \"Put bite size pi...\n",
       "4    [\"Combine first four ingredients and press in ...\n",
       "5    [\"Wash potatoes; prick several times with a fo...\n",
       "6    [\"Cream sugar and butter.\", \"Add egg and beat ...\n",
       "7    [\"Mix together both cans of corn, crackers, eg...\n",
       "8    [\"Roll steak strips in flour.\", \"Brown in skil...\n",
       "9    [\"Empty Cool Whip into a bowl.\", \"Drain juice ...\n",
       "Name: directions, dtype: object"
      ]
     },
     "execution_count": 5,
     "metadata": {},
     "output_type": "execute_result"
    }
   ],
   "source": [
    "df100.directions"
   ]
  },
  {
   "cell_type": "code",
   "execution_count": 11,
   "id": "52451b57",
   "metadata": {},
   "outputs": [],
   "source": [
    "df100.to_csv('100recipes.csv')"
   ]
  }
 ],
 "metadata": {
  "kernelspec": {
   "display_name": "lenv",
   "language": "python",
   "name": "python3"
  },
  "language_info": {
   "codemirror_mode": {
    "name": "ipython",
    "version": 3
   },
   "file_extension": ".py",
   "mimetype": "text/x-python",
   "name": "python",
   "nbconvert_exporter": "python",
   "pygments_lexer": "ipython3",
   "version": "3.10.0"
  }
 },
 "nbformat": 4,
 "nbformat_minor": 5
}
